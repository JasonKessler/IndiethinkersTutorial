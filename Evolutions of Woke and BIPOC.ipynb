{
 "cells": [
  {
   "cell_type": "code",
   "execution_count": 18,
   "metadata": {},
   "outputs": [
    {
     "name": "stdout",
     "output_type": "stream",
     "text": [
      "The autoreload extension is already loaded. To reload it, use:\n",
      "  %reload_ext autoreload\n"
     ]
    },
    {
     "data": {
      "text/html": [
       "<style>.container { width:98% !important; }</style>"
      ],
      "text/plain": [
       "<IPython.core.display.HTML object>"
      ]
     },
     "metadata": {},
     "output_type": "display_data"
    }
   ],
   "source": [
    "%load_ext autoreload\n",
    "%autoreload 2\n",
    "import os, json, re, sys, time, warnings, datetime, glob\n",
    "from html import unescape\n",
    "import spacy\n",
    "import pandas as pd\n",
    "import numpy as np\n",
    "import altair as alt\n",
    "\n",
    "import scattertext as st\n",
    "import agefromname\n",
    "from tqdm.notebook import tqdm\n",
    "from IPython.core.display import HTML, display\n",
    "from IPython.display import IFrame\n",
    "display(HTML(\"<style>.container { width:98% !important; }</style>\"))\n",
    "tqdm.pandas()\n",
    "warnings.simplefilter('ignore')"
   ]
  },
  {
   "cell_type": "markdown",
   "metadata": {},
   "source": [
    "### Note: the visualizations only render properly in Chrome. Firefox users may see distorted word lists.\n",
    "\n",
    "### Evolution of the meaning of the word \"Woke\"\n",
    "- At most 5K tweets were pulled by querying for \"woke\" each month since Jan. 2015\n",
    "- Tweets containing \"woke up\" are discarded\n",
    "- We can look at the dynamics of the usage of \"woke\", and various trending topics during certain epochs\n",
    "\n"
   ]
  },
  {
   "cell_type": "code",
   "execution_count": 15,
   "metadata": {},
   "outputs": [
    {
     "data": {
      "application/vnd.jupyter.widget-view+json": {
       "model_id": "9e1b76abab2543ebb35a3251942961b2",
       "version_major": 2,
       "version_minor": 0
      },
      "text/plain": [
       "HBox(children=(FloatProgress(value=0.0, max=80308.0), HTML(value='')))"
      ]
     },
     "metadata": {},
     "output_type": "display_data"
    },
    {
     "name": "stdout",
     "output_type": "stream",
     "text": [
      "\n"
     ]
    }
   ],
   "source": [
    "def read_df(file_name, query):\n",
    "    return pd.read_csv(file_name)[[\n",
    "        'url', 'date', 'renderedContent', 'user', 'Text', \n",
    "         'replyCount', 'retweetCount', 'likeCount', 'quoteCount', 'place'\n",
    "    ]][lambda df: df.Text.apply(type) == str].assign(\n",
    "        Query=query\n",
    "    )[lambda df: df.user.apply(type) == str].assign(\n",
    "        user = lambda df: df.user.apply(eval)\n",
    "    )[lambda df: df.user.apply(type) == dict].assign(\n",
    "        UserName = lambda df: df.user.apply(lambda x: x['username']),\n",
    "        DisplayName = lambda df: df.user.apply(lambda x: x['displayname']),\n",
    "        Month = lambda df: df.date.apply(lambda x: x[:7]),\n",
    "        date = lambda df: pd.to_datetime(df.date),\n",
    "        Quarter = lambda df: df.date.apply(lambda x: str(x.year) + 'q' + str(1 + ((x.month - 1)//3))),\n",
    "        Third = lambda df: df.date.apply(lambda x: str(x.year) + 't' + str(1 + ((x.month - 1)//4))),\n",
    "        Half = lambda df: df.date.apply(lambda x: str(x.year) + 'h' + str(1 + ((x.month - 1)//6))),            \n",
    "    ).loc[\n",
    "        lambda df: df[['Month', 'Text']].drop_duplicates()[\n",
    "            lambda df: df.Text.apply(lambda x: not 'woke up' in x)\n",
    "        ].index\n",
    "    ][\n",
    "        lambda df: df.Text != 'account is temporarily unavailable because it violates the twitter media policy. learn more.'\n",
    "    ]\n",
    "woke_df = read_df('woke_2015-2021.csv.gz', 'woke').assign(\n",
    "    Parse = lambda df: df.Text.apply(unescape).progress_apply(st.whitespace_nlp_with_sentences)\n",
    ").sort_values(by='date')"
   ]
  },
  {
   "cell_type": "markdown",
   "metadata": {},
   "source": [
    "### Data examination - FYI\n",
    "- I may have under collected data in 2018 and 2019"
   ]
  },
  {
   "cell_type": "code",
   "execution_count": 27,
   "metadata": {},
   "outputs": [
    {
     "data": {
      "text/html": [
       "\n",
       "<div id=\"altair-viz-49e93ff103a1471390d46b62af333bca\"></div>\n",
       "<script type=\"text/javascript\">\n",
       "  (function(spec, embedOpt){\n",
       "    let outputDiv = document.currentScript.previousElementSibling;\n",
       "    if (outputDiv.id !== \"altair-viz-49e93ff103a1471390d46b62af333bca\") {\n",
       "      outputDiv = document.getElementById(\"altair-viz-49e93ff103a1471390d46b62af333bca\");\n",
       "    }\n",
       "    const paths = {\n",
       "      \"vega\": \"https://cdn.jsdelivr.net/npm//vega@5?noext\",\n",
       "      \"vega-lib\": \"https://cdn.jsdelivr.net/npm//vega-lib?noext\",\n",
       "      \"vega-lite\": \"https://cdn.jsdelivr.net/npm//vega-lite@4.8.1?noext\",\n",
       "      \"vega-embed\": \"https://cdn.jsdelivr.net/npm//vega-embed@6?noext\",\n",
       "    };\n",
       "\n",
       "    function loadScript(lib) {\n",
       "      return new Promise(function(resolve, reject) {\n",
       "        var s = document.createElement('script');\n",
       "        s.src = paths[lib];\n",
       "        s.async = true;\n",
       "        s.onload = () => resolve(paths[lib]);\n",
       "        s.onerror = () => reject(`Error loading script: ${paths[lib]}`);\n",
       "        document.getElementsByTagName(\"head\")[0].appendChild(s);\n",
       "      });\n",
       "    }\n",
       "\n",
       "    function showError(err) {\n",
       "      outputDiv.innerHTML = `<div class=\"error\" style=\"color:red;\">${err}</div>`;\n",
       "      throw err;\n",
       "    }\n",
       "\n",
       "    function displayChart(vegaEmbed) {\n",
       "      vegaEmbed(outputDiv, spec, embedOpt)\n",
       "        .catch(err => showError(`Javascript Error: ${err.message}<br>This usually means there's a typo in your chart specification. See the javascript console for the full traceback.`));\n",
       "    }\n",
       "\n",
       "    if(typeof define === \"function\" && define.amd) {\n",
       "      requirejs.config({paths});\n",
       "      require([\"vega-embed\"], displayChart, err => showError(`Error loading script: ${err.message}`));\n",
       "    } else if (typeof vegaEmbed === \"function\") {\n",
       "      displayChart(vegaEmbed);\n",
       "    } else {\n",
       "      loadScript(\"vega\")\n",
       "        .then(() => loadScript(\"vega-lite\"))\n",
       "        .then(() => loadScript(\"vega-embed\"))\n",
       "        .catch(showError)\n",
       "        .then(() => displayChart(vegaEmbed));\n",
       "    }\n",
       "  })({\"config\": {\"view\": {\"continuousWidth\": 400, \"continuousHeight\": 300}}, \"data\": {\"name\": \"data-b18141b4f8be4ba6aff31e9f16424e2b\"}, \"mark\": \"bar\", \"encoding\": {\"x\": {\"type\": \"nominal\", \"field\": \"Quarter\"}, \"y\": {\"type\": \"quantitative\", \"field\": \"Tweet Count\"}}, \"$schema\": \"https://vega.github.io/schema/vega-lite/v4.8.1.json\", \"datasets\": {\"data-b18141b4f8be4ba6aff31e9f16424e2b\": [{\"Quarter\": \"2020q2\", \"Tweet Count\": 6317}, {\"Quarter\": \"2021q2\", \"Tweet Count\": 5581}, {\"Quarter\": \"2020q1\", \"Tweet Count\": 4697}, {\"Quarter\": \"2021q1\", \"Tweet Count\": 4694}, {\"Quarter\": \"2020q3\", \"Tweet Count\": 4649}, {\"Quarter\": \"2017q2\", \"Tweet Count\": 4649}, {\"Quarter\": \"2017q3\", \"Tweet Count\": 4381}, {\"Quarter\": \"2017q1\", \"Tweet Count\": 4269}, {\"Quarter\": \"2017q4\", \"Tweet Count\": 4167}, {\"Quarter\": \"2020q4\", \"Tweet Count\": 4132}, {\"Quarter\": \"2016q4\", \"Tweet Count\": 3086}, {\"Quarter\": \"2016q3\", \"Tweet Count\": 2920}, {\"Quarter\": \"2016q2\", \"Tweet Count\": 2743}, {\"Quarter\": \"2016q1\", \"Tweet Count\": 2380}, {\"Quarter\": \"2015q3\", \"Tweet Count\": 2368}, {\"Quarter\": \"2015q2\", \"Tweet Count\": 2202}, {\"Quarter\": \"2015q4\", \"Tweet Count\": 2160}, {\"Quarter\": \"2018q2\", \"Tweet Count\": 1823}, {\"Quarter\": \"2019q4\", \"Tweet Count\": 1779}, {\"Quarter\": \"2019q3\", \"Tweet Count\": 1769}, {\"Quarter\": \"2019q2\", \"Tweet Count\": 1673}, {\"Quarter\": \"2015q1\", \"Tweet Count\": 1669}, {\"Quarter\": \"2019q1\", \"Tweet Count\": 1626}, {\"Quarter\": \"2018q3\", \"Tweet Count\": 1534}, {\"Quarter\": \"2018q1\", \"Tweet Count\": 1528}, {\"Quarter\": \"2018q4\", \"Tweet Count\": 1512}]}}, {\"mode\": \"vega-lite\"});\n",
       "</script>"
      ],
      "text/plain": [
       "alt.Chart(...)"
      ]
     },
     "execution_count": 27,
     "metadata": {},
     "output_type": "execute_result"
    }
   ],
   "source": [
    "alt.Chart(\n",
    "    pd.DataFrame(woke_df.Quarter.value_counts()).reset_index().rename(\n",
    "        columns={'index': 'Quarter', 'Quarter': 'Tweet Count'}\n",
    "    )\n",
    ").mark_bar().encode(\n",
    "    x='Quarter',\n",
    "    y='Tweet Count'\n",
    ")"
   ]
  },
  {
   "cell_type": "markdown",
   "metadata": {},
   "source": [
    "### Ingest data into a Scattertext Corpus\n",
    "- Retain non-stopwords; eliminate any links, short words, numbers, or \"woke\" itself\n",
    "- Include 2500 words which are most associated with one quarter (using the JS-Divergence), and the 500 most frequent terms"
   ]
  },
  {
   "cell_type": "code",
   "execution_count": 39,
   "metadata": {},
   "outputs": [],
   "source": [
    "corpus = st.CorpusFromParsedDocuments(\n",
    "    woke_df,\n",
    "    category_col='Third',\n",
    "    parsed_col='Parse',\n",
    ").build(\n",
    ").get_stoplisted_unigram_corpus(\n",
    ")\n",
    "\n",
    "number_re = re.compile(r'\\d+')\n",
    "corpus = corpus.remove_terms([\n",
    "    x for x in corpus.get_terms() \n",
    "    if x.startswith('http') or len(x) < 3 \n",
    "    or x in ['woke', 'like', 'just'] \n",
    "    or number_re.match(x) is not None\n",
    "]).compact(st.AssociationCompactor(\n",
    "    2500,\n",
    "    scorer=st.DeltaJSDivergence,\n",
    "    term_ranker=st.OncePerDocFrequencyRanker,\n",
    "    include_n_most_frequent_terms=500\n",
    "))"
   ]
  },
  {
   "cell_type": "markdown",
   "metadata": {},
   "source": [
    "### Diachronic Table\n",
    "- Table\n",
    " - Most associated terms with each third of the year (epochs)\n",
    " - Ordered by geometric mean of $\\ell$1-penalized logistic regression score for epoch and frequency\n",
    "- Scatterplot\n",
    " - Residual the the DA dispersion measure (considering each epoch as a document) and each word's expected dispersion based on frequency\n",
    " - Top half: more evenly spread out over epochs\n",
    "   - More thematic\n",
    " - Bottom half: more concentrated \n",
    "   - More trendy "
   ]
  },
  {
   "cell_type": "code",
   "execution_count": 40,
   "metadata": {
    "scrolled": false
   },
   "outputs": [
    {
     "data": {
      "text/html": [
       "\n",
       "        <iframe\n",
       "            width=\"1300\"\n",
       "            height=\"700\"\n",
       "            src=\"woke_diachronic.html\"\n",
       "            frameborder=\"0\"\n",
       "            allowfullscreen\n",
       "        ></iframe>\n",
       "        "
      ],
      "text/plain": [
       "<IPython.lib.display.IFrame at 0x7fb7f7e75350>"
      ]
     },
     "execution_count": 40,
     "metadata": {},
     "output_type": "execute_result"
    }
   ],
   "source": [
    "def get_heading(corpus):\n",
    "    df = corpus.get_df()\n",
    "    return (\n",
    "        df['DisplayName'] + '; @' + df['UserName'] \n",
    "        + '; <a href=\"' + df['url'] + '\">' \n",
    "        + df['date'].apply(str).str.split().apply(lambda x: x[0]) + '</a>'\n",
    "    )\n",
    "\n",
    "html = st.produce_scattertext_table(\n",
    "    corpus,\n",
    "    plot_width=1000,\n",
    "    plot_height=400,\n",
    "    top_terms_length=9,    \n",
    "    use_full_doc=True,\n",
    "    metadata=get_heading(corpus),\n",
    ") \n",
    "fn = 'woke_diachronic.html'\n",
    "open(fn, 'w').write(table_html)\n",
    "open(fn, 'wb').write(('<h2>Evolution of \"woke\" on Twitter</h2>' + html).encode('utf-8'))\n",
    "IFrame(src=fn, width = 1300, height=700)\n"
   ]
  },
  {
   "cell_type": "markdown",
   "metadata": {},
   "source": [
    "### We can perform an analogous study on \"BIPOC\" \n",
    "- We use a very similar preprocessing and can see an evolution of left-wing discourse on Twitter since 2018\n",
    "- Since we are dealing with a shorter time horizon, quarters are used for epochs"
   ]
  },
  {
   "cell_type": "code",
   "execution_count": 41,
   "metadata": {},
   "outputs": [
    {
     "data": {
      "application/vnd.jupyter.widget-view+json": {
       "model_id": "ad7fba02976c45de83a4740bb64aaf1f",
       "version_major": 2,
       "version_minor": 0
      },
      "text/plain": [
       "HBox(children=(FloatProgress(value=0.0, max=119487.0), HTML(value='')))"
      ]
     },
     "metadata": {},
     "output_type": "display_data"
    },
    {
     "name": "stdout",
     "output_type": "stream",
     "text": [
      "\n"
     ]
    },
    {
     "data": {
      "application/vnd.jupyter.widget-view+json": {
       "model_id": "b1f46cf9839c46cfa0c4eee3ca6e3d1a",
       "version_major": 2,
       "version_minor": 0
      },
      "text/plain": [
       "HBox(children=(FloatProgress(value=0.0, max=119487.0), HTML(value='')))"
      ]
     },
     "metadata": {},
     "output_type": "display_data"
    },
    {
     "name": "stdout",
     "output_type": "stream",
     "text": [
      "\n"
     ]
    }
   ],
   "source": [
    "bipoc_df = read_df(\n",
    "    'bipoc_post_2018q1.csv.gz', 'bipoc'\n",
    ").reset_index(drop=True).assign(\n",
    "    Parse = lambda df: df.Text.apply(unescape).progress_apply(st.whitespace_nlp),\n",
    "    date = lambda df: pd.to_datetime(df.date),\n",
    "    Quarter = lambda df: df.date.apply(lambda x: str(x.year) + 'q' + str(1 + ((x.month - 1)//3))),\n",
    "    Third = lambda df: df.date.apply(lambda x: str(x.year) + 't' + str(1 + ((x.month - 1)//4))),\n",
    "    Half = lambda df: df.date.apply(lambda x: str(x.year) + 't' + str(1 + ((x.month - 1)//6))),    \n",
    ").sort_values(by='date')"
   ]
  },
  {
   "cell_type": "code",
   "execution_count": 43,
   "metadata": {},
   "outputs": [],
   "source": [
    "corpus = st.CorpusFromParsedDocuments(\n",
    "    bipoc_df,\n",
    "    category_col='Quarter',\n",
    "    parsed_col='Parse',\n",
    ").build(\n",
    ").get_stoplisted_unigram_corpus(\n",
    ")\n",
    "\n",
    "number_re = re.compile(r'\\d+')\n",
    "corpus = corpus.remove_terms([\n",
    "    x for x in corpus.get_terms() \n",
    "    if x.startswith('http') or len(x) < 3 \n",
    "    or x in ['bipoc', 'like', 'just'] \n",
    "    or number_re.match(x) is not None\n",
    "]).compact(st.AssociationCompactor(\n",
    "    2500,\n",
    "    scorer=st.DeltaJSDivergence,\n",
    "    term_ranker=st.OncePerDocFrequencyRanker,\n",
    "    include_n_most_frequent_terms=500\n",
    "))"
   ]
  },
  {
   "cell_type": "code",
   "execution_count": 44,
   "metadata": {},
   "outputs": [
    {
     "data": {
      "text/html": [
       "\n",
       "        <iframe\n",
       "            width=\"1300\"\n",
       "            height=\"700\"\n",
       "            src=\"bipoc_diachronic.html\"\n",
       "            frameborder=\"0\"\n",
       "            allowfullscreen\n",
       "        ></iframe>\n",
       "        "
      ],
      "text/plain": [
       "<IPython.lib.display.IFrame at 0x7fb7cf144c10>"
      ]
     },
     "execution_count": 44,
     "metadata": {},
     "output_type": "execute_result"
    }
   ],
   "source": [
    "def get_heading(corpus):\n",
    "    df = corpus.get_df()\n",
    "    return (\n",
    "        df['DisplayName'] + '; @' + df['UserName'] \n",
    "        + '; <a href=\"' + df['url'] + '\">' \n",
    "        + df['date'].apply(str).str.split().apply(lambda x: x[0]) + '</a>'\n",
    "    )\n",
    "\n",
    "html = st.produce_scattertext_table(\n",
    "    corpus,\n",
    "    plot_width=1000,\n",
    "    plot_height=400,\n",
    "    top_terms_length=9,    \n",
    "    use_full_doc=True,\n",
    "    metadata=get_heading(corpus),\n",
    ") \n",
    "fn = 'bipoc_diachronic.html'\n",
    "open(fn, 'w').write(table_html)\n",
    "open(fn, 'wb').write(('<h2>Evolution of \"BIPOC\" on Twitter</h2>' + html).encode('utf-8'))\n",
    "IFrame(src=fn, width = 1300, height=700)\n"
   ]
  },
  {
   "cell_type": "code",
   "execution_count": null,
   "metadata": {},
   "outputs": [],
   "source": []
  }
 ],
 "metadata": {
  "kernelspec": {
   "display_name": "py38",
   "language": "python",
   "name": "py38"
  },
  "language_info": {
   "codemirror_mode": {
    "name": "ipython",
    "version": 3
   },
   "file_extension": ".py",
   "mimetype": "text/x-python",
   "name": "python",
   "nbconvert_exporter": "python",
   "pygments_lexer": "ipython3",
   "version": "3.7.6"
  }
 },
 "nbformat": 4,
 "nbformat_minor": 4
}
