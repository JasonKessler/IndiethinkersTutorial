{
 "cells": [
  {
   "cell_type": "code",
   "execution_count": 124,
   "metadata": {},
   "outputs": [
    {
     "name": "stdout",
     "output_type": "stream",
     "text": [
      "The autoreload extension is already loaded. To reload it, use:\n",
      "  %reload_ext autoreload\n"
     ]
    },
    {
     "data": {
      "text/html": [
       "<style>.container { width:98% !important; }</style>"
      ],
      "text/plain": [
       "<IPython.core.display.HTML object>"
      ]
     },
     "metadata": {},
     "output_type": "display_data"
    }
   ],
   "source": [
    "%load_ext autoreload\n",
    "%autoreload 2\n",
    "import os, json, re, sys, time, warnings, datetime\n",
    "from html import unescape\n",
    "#sys.path.insert(0, '../scattertext/')\n",
    "import spacy\n",
    "import pandas as pd\n",
    "import numpy as np\n",
    "import scattertext as st\n",
    "import agefromname\n",
    "from tqdm.notebook import tqdm\n",
    "from IPython.core.display import HTML, display\n",
    "from IPython.display import IFrame\n",
    "display(HTML(\"<style>.container { width:98% !important; }</style>\"))\n",
    "\n",
    "tqdm.pandas()\n",
    "\n",
    "warnings.simplefilter('ignore')"
   ]
  },
  {
   "cell_type": "code",
   "execution_count": 125,
   "metadata": {},
   "outputs": [],
   "source": [
    "assert st.version >= [0, 1, 3]"
   ]
  },
  {
   "cell_type": "markdown",
   "metadata": {},
   "source": [
    "## Initial Data Collection\n",
    "\n",
    "- Use snscrape to download 50k tweets mentioning \"moderna\" and 50k mentioning \"pfizer\"\n",
    "- Start date: May 1, 2021\n",
    "- Filter out tweets only containing links and mentions\n",
    "- The first row of the collected data frame is outputted\n",
    "- After the first round of filtering, we end up with just under 50k tweets per query"
   ]
  },
  {
   "cell_type": "code",
   "execution_count": 126,
   "metadata": {},
   "outputs": [
    {
     "data": {
      "text/plain": [
       "url                https://twitter.com/augusfraschina/status/1390...\n",
       "date                                       2021-05-07T01:35:52+00:00\n",
       "content            @LANACION Jajajajaa las pelotudeces de la soci...\n",
       "renderedContent    @LANACION Jajajajaa las pelotudeces de la soci...\n",
       "id                                               1390480471692390401\n",
       "user               {'username': 'augusfraschina', 'displayname': ...\n",
       "outlinks                                                          []\n",
       "tcooutlinks                                                       []\n",
       "replyCount                                                       0.0\n",
       "retweetCount                                                     0.0\n",
       "likeCount                                                          0\n",
       "quoteCount                                                         0\n",
       "conversationId                                   1390478189563162633\n",
       "lang                                                              es\n",
       "source             <a href=\"http://twitter.com/download/iphone\" r...\n",
       "sourceUrl                         http://twitter.com/download/iphone\n",
       "sourceLabel                                       Twitter for iPhone\n",
       "media                                                            NaN\n",
       "retweetedTweet                                                   NaN\n",
       "quotedTweet                                                      NaN\n",
       "mentionedUsers     [{'username': 'LANACION', 'displayname': 'LA N...\n",
       "coordinates                                                      NaN\n",
       "place                                                            NaN\n",
       "Text                Jajajajaa las pelotudeces de la sociedad moderna\n",
       "Query                                                        moderna\n",
       "Name: 0, dtype: object"
      ]
     },
     "execution_count": 126,
     "metadata": {},
     "output_type": "execute_result"
    }
   ],
   "source": [
    "#This will takes me 20-30 minutes to download from my home internet connection\n",
    "# If you do download, ensure snscrape is installed using: \n",
    "# source activate idt && pip install -U git+https://github.com/JustAnotherArchivist/snscrape.git\n",
    "virtual_env = 'idt'\n",
    "queries = [\"moderna\", \"pfizer\"]\n",
    "max_results = 50000\n",
    "since_date = \"2021-05-01\"\n",
    "\n",
    "# set to false to ensure if you don't want to scrape data when the cell is run\n",
    "scrape_data, make_csv = False, False \n",
    "\n",
    "for query in queries:\n",
    "    results_file_name = f\"{query}-{since_date}-{max_results}.json\"\n",
    "\n",
    "    if scrape_data:\n",
    "        os.system(f'source activate idt && snscrape --jsonl --progress --max-results {max_results} '\n",
    "                  f'--since {since_date} twitter-search \"{query}\" > {results_file_name}')\n",
    "    if make_csv:\n",
    "        data = []\n",
    "        for text in tqdm(line.strip() for line in open(results_file_name) if line.strip()):\n",
    "            data.append(json.loads(text.encode('ascii', 'ignore').decode('utf-8')))\n",
    "\n",
    "        pd.DataFrame(data).assign(\n",
    "            Text = lambda df: df.content.apply(\n",
    "                lambda text: ' '.join(\n",
    "                    word for word in text.split() \n",
    "                    if not (word.startswith('@') or word.startswith('http')))\n",
    "            )\n",
    "        )[\n",
    "            lambda df: df.Text.str.len() > 0\n",
    "        ].to_csv(results_file_name + '.csv', index=False)\n",
    "        \n",
    "df = pd.concat([\n",
    "    pd.read_csv(\n",
    "        f\"{query}-{since_date}-{max_results}.json.csv.gz\", \n",
    "        index_col=None, header=0, engine='python', compression='gzip'\n",
    "    ).assign(Query=query)\n",
    "    for query in queries\n",
    "]).reset_index(drop=True)\n",
    "df.iloc[0]"
   ]
  },
  {
   "cell_type": "code",
   "execution_count": 127,
   "metadata": {},
   "outputs": [
    {
     "data": {
      "text/plain": [
       "moderna    49912\n",
       "pfizer     49835\n",
       "Name: Query, dtype: int64"
      ]
     },
     "execution_count": 127,
     "metadata": {},
     "output_type": "execute_result"
    }
   ],
   "source": [
    "df.Query.value_counts()"
   ]
  },
  {
   "cell_type": "markdown",
   "metadata": {},
   "source": [
    "### User gender prediction\n",
    "- Use the `AgeFromName` to collect a data frame of first names given to babies born in the US who, as of 2021, are between 18 and 60 years old.\n",
    " - A stab at the age range of most people tweeting.\n",
    " - Contains the probability from the Social Security Administration a person that age rage who has the name was asigned female at birth\n",
    " - Denote `F` as likely assigned female at birth, `M` as likely assigned male at birth, and `Ind` as indeterminate\n",
    "  - 95% confidence interval, and the mean probability.\n",
    "   - P(`F`|Pat) $\\in$ $[0.283809, 0.293993]_{95\\%}$\n",
    "   - P(`F`|Shannon) $\\in$ $[0.859481, 0.861918]_{95\\%}$\n",
    "  - \"Likely\" indicates the high-end confidence interval is $<0.07$ or the low-end is $>0.93$.\n",
    "   - Filter for English-language tweets; remove duplicate tweets\n",
    "- Filter to users with an unambiguous first name gender"
   ]
  },
  {
   "cell_type": "code",
   "execution_count": 128,
   "metadata": {},
   "outputs": [],
   "source": [
    "name_gender_df = (\n",
    "    agefromname.AgeFromName()\n",
    "    .get_all_name_female_prob(current_year=2021, minimum_age=18, maximum_age=60)\n",
    ")\n",
    "first_name_df = df[~pd.isna(df.user)].assign(\n",
    "    DisplayName = lambda df: df.user.apply(eval).apply(\n",
    "        lambda x: x['displayname'] if type(x) == dict else None\n",
    "    ),\n",
    ")[lambda df: ~pd.isna(df.DisplayName)].assign(\n",
    "    FirstName = lambda df: df.DisplayName.apply(lambda x: x.split()[0].lower()),\n",
    ").loc[lambda df: df[['Text', 'FirstName']].drop_duplicates().index]\n",
    "\n",
    "gender_prob_threshold = 0.07\n",
    "df_with_gender_prob = pd.merge(\n",
    "    first_name_df,\n",
    "    name_gender_df[['prob', 'lo', 'hi']],\n",
    "    left_on='FirstName',\n",
    "    right_index=True,\n",
    "    how='inner'\n",
    ").assign(\n",
    "    ProbableGender = lambda df: df.apply(\n",
    "        lambda x: 'M' if x.hi <= gender_prob_threshold else 'F' if x.lo >= 1-gender_prob_threshold else 'Ind',\n",
    "        axis = 1\n",
    "    ),\n",
    "    UserName = lambda df: df.user.apply(eval).apply(lambda x: x['username'] if type(x) == dict else None)\n",
    ")[\n",
    "    lambda df: (df.lang == 'en') & (~df.UserName.str.startswith('CovidVaccine'))\n",
    "].loc[\n",
    "    lambda df: df.Text.apply(\n",
    "        lambda x: ' '.join([t for t in x.lower().split() if t[0] not in ['#', '@']])\n",
    "    ).drop_duplicates().index\n",
    "].sort_values(by='date')\n"
   ]
  },
  {
   "cell_type": "code",
   "execution_count": 129,
   "metadata": {},
   "outputs": [
    {
     "data": {
      "text/plain": [
       "lo      0.283809\n",
       "hi      0.304387\n",
       "prob    0.293993\n",
       "Name: pat, dtype: float64"
      ]
     },
     "execution_count": 129,
     "metadata": {},
     "output_type": "execute_result"
    }
   ],
   "source": [
    "name_gender_df.loc['pat']"
   ]
  },
  {
   "cell_type": "code",
   "execution_count": 130,
   "metadata": {},
   "outputs": [
    {
     "data": {
      "text/plain": [
       "lo      0.859481\n",
       "hi      0.861918\n",
       "prob    0.860704\n",
       "Name: shannon, dtype: float64"
      ]
     },
     "execution_count": 130,
     "metadata": {},
     "output_type": "execute_result"
    }
   ],
   "source": [
    "name_gender_df.loc['shannon']"
   ]
  },
  {
   "cell_type": "code",
   "execution_count": 131,
   "metadata": {},
   "outputs": [
    {
     "data": {
      "text/plain": [
       "DisplayName                                         Phyllis De Soto\n",
       "FirstName                                                   phyllis\n",
       "hi                                                          0.99832\n",
       "lo                                                         0.997155\n",
       "ProbableGender                                                    F\n",
       "Text              #creepy #vaccine In general most Americans sup...\n",
       "Name: 49899, dtype: object"
      ]
     },
     "execution_count": 131,
     "metadata": {},
     "output_type": "execute_result"
    }
   ],
   "source": [
    "df_with_gender_prob[['DisplayName', 'FirstName', 'hi', 'lo', 'ProbableGender', 'Text']].iloc[5]"
   ]
  },
  {
   "cell_type": "markdown",
   "metadata": {},
   "source": [
    "### Analysis of filtered data set\n",
    "- A total of 19.5K tweets remain\n",
    "- 48% (14K) of those are from moderna\n",
    "- 51% of those tweeting are categorized as `M`\n",
    "- 30% as `F`\n",
    "- 19% as `Ind`\n"
   ]
  },
  {
   "cell_type": "code",
   "execution_count": 132,
   "metadata": {},
   "outputs": [
    {
     "name": "stdout",
     "output_type": "stream",
     "text": [
      "Total tweets: 24032\n",
      "\n",
      "           Cnt       Pct\n",
      "Query                   \n",
      "moderna  14006  0.582806\n",
      "pfizer   10026  0.417194\n",
      "\n",
      "                  Cnt       Pct\n",
      "ProbableGender                 \n",
      "F                7255  0.301889\n",
      "Ind              4494  0.187001\n",
      "M               12283  0.511110\n",
      "\n",
      "ProbableGender  Query  \n",
      "F               moderna    4176\n",
      "                pfizer     3079\n",
      "Ind             moderna    2610\n",
      "                pfizer     1884\n",
      "M               moderna    7220\n",
      "                pfizer     5063\n",
      "Name: C, dtype: int64\n"
     ]
    }
   ],
   "source": [
    "print('Total tweets:', len(df_with_gender_prob))\n",
    "print()\n",
    "print(df_with_gender_prob.assign(Cnt=1, Pct=1/len(df_with_gender_prob)).groupby('Query')['Cnt','Pct'].sum())\n",
    "print()\n",
    "print(df_with_gender_prob.assign(\n",
    "    Cnt=1,\n",
    "    Pct=1/len(df_with_gender_prob), \n",
    ").groupby('ProbableGender')['Cnt','Pct'].sum())\n",
    "print()\n",
    "print(df_with_gender_prob.assign(C=1).groupby(['ProbableGender', 'Query'])['C'].sum())"
   ]
  },
  {
   "cell_type": "markdown",
   "metadata": {},
   "source": [
    "### Parse remaining \n",
    "- Use a partial reimplimentation of spaCy to parse each tweet"
   ]
  },
  {
   "cell_type": "code",
   "execution_count": 133,
   "metadata": {},
   "outputs": [
    {
     "data": {
      "application/vnd.jupyter.widget-view+json": {
       "model_id": "ce725c2f6d14477491259a3bb3b744c6",
       "version_major": 2,
       "version_minor": 0
      },
      "text/plain": [
       "HBox(children=(FloatProgress(value=0.0, max=24032.0), HTML(value='')))"
      ]
     },
     "metadata": {},
     "output_type": "display_data"
    },
    {
     "name": "stdout",
     "output_type": "stream",
     "text": [
      "\n"
     ]
    }
   ],
   "source": [
    "df_with_gender_prob = df_with_gender_prob.assign(\n",
    "    Parse = lambda df: df.Text.apply(unescape).progress_apply(st.whitespace_nlp_with_sentences)\n",
    ")"
   ]
  },
  {
   "cell_type": "markdown",
   "metadata": {},
   "source": [
    "### Use Scattertext to identify words associated with a query\n",
    "- Use Cohen's d with a family-wise error rate correction to analyze word distributions\n",
    "- Based on the `df_with_gender_prob` dasta frame\n",
    "- The `category_col` argument is the column name of the target variable\n",
    "- `parsed_col` the column name of the spaCy `Doc` compatiable object reprsenting the parse of each tweet\n",
    "- Only consider stoplisted unigrams as independent variables\n",
    " - Remove words which occur less than 10 times, remove moderna and pfizer \n",
    " - We are left with about 3K word types"
   ]
  },
  {
   "cell_type": "code",
   "execution_count": 134,
   "metadata": {},
   "outputs": [],
   "source": [
    "corpus = st.CorpusFromParsedDocuments(\n",
    "    df_with_gender_prob,\n",
    "    category_col='Query',\n",
    "    parsed_col='Parse'\n",
    ").build(\n",
    ").get_stoplisted_unigram_corpus(\n",
    ")"
   ]
  },
  {
   "cell_type": "code",
   "execution_count": 135,
   "metadata": {},
   "outputs": [
    {
     "data": {
      "text/plain": [
       "21231"
      ]
     },
     "execution_count": 135,
     "metadata": {},
     "output_type": "execute_result"
    }
   ],
   "source": [
    "corpus.get_num_terms()\n"
   ]
  },
  {
   "cell_type": "code",
   "execution_count": 136,
   "metadata": {},
   "outputs": [
    {
     "data": {
      "text/plain": [
       "2739"
      ]
     },
     "execution_count": 136,
     "metadata": {},
     "output_type": "execute_result"
    }
   ],
   "source": [
    "number_re = re.compile(r'\\d+')\n",
    "frequent_corpus = corpus.remove_terms(\n",
    "    [x for x in corpus.get_terms() \n",
    "     if len(x) < 3 or x in ['moderna', 'pfizer'] or number_re.match(x) is not None]\n",
    ").remove_infrequent_words(\n",
    "    10\n",
    ")\n",
    "frequent_corpus.get_num_terms()"
   ]
  },
  {
   "cell_type": "markdown",
   "metadata": {},
   "source": [
    "### Terms associated with each vaccine\n",
    "- We can use [Cohen's d](https://people.bath.ac.uk/pssiw/stats2/page2/page14/page14.html) to identify which of these terms more characteristic of either vaccine\n",
    "- To compute Cohen's d for a given word:\n",
    " - For each tweet, we compute what portion of the distinct words in that tweet were of the word in question\n",
    " - We then take the means and standard deviations of those values for Moderna and Pfizer tweets respectively\n",
    " - Next, we determine how many pooled standard deviations separate them\n",
    " - We can compute the p-value of each Cohen's d measurement\n",
    "  - Other statistics are shown, which are explained in the Scattertext documentation, including:\n",
    "   - The p-value of Cohen's d,\n",
    "   - Hedge's r,\n",
    "   - m1 and m2, the means of the percentage distributions,\n",
    "   - count1 and count2, the repective word counts,\n",
    "   - docs2 and docs2, the repective tweet counts \n",
    "- We see that MRNA and booster are more associated with Moderna, while Biontech, atheletes, children, olympic and Tokyo are associate with Pfizer.\n",
    " - Interseting. But what else may be lurking in word associations?"
   ]
  },
  {
   "cell_type": "code",
   "execution_count": 137,
   "metadata": {},
   "outputs": [
    {
     "name": "stdout",
     "output_type": "stream",
     "text": [
      "Positive d is associated with Moderna, negative Pfizer\n"
     ]
    },
    {
     "data": {
      "text/html": [
       "<div>\n",
       "<style scoped>\n",
       "    .dataframe tbody tr th:only-of-type {\n",
       "        vertical-align: middle;\n",
       "    }\n",
       "\n",
       "    .dataframe tbody tr th {\n",
       "        vertical-align: top;\n",
       "    }\n",
       "\n",
       "    .dataframe thead th {\n",
       "        text-align: right;\n",
       "    }\n",
       "</style>\n",
       "<table border=\"1\" class=\"dataframe\">\n",
       "  <thead>\n",
       "    <tr style=\"text-align: right;\">\n",
       "      <th></th>\n",
       "      <th>cohens_d</th>\n",
       "      <th>cohens_d_se</th>\n",
       "      <th>cohens_d_z</th>\n",
       "      <th>cohens_d_p</th>\n",
       "      <th>hedges_r</th>\n",
       "      <th>hedges_r_se</th>\n",
       "      <th>hedges_r_z</th>\n",
       "      <th>hedges_r_p</th>\n",
       "      <th>m1</th>\n",
       "      <th>m2</th>\n",
       "      <th>count1</th>\n",
       "      <th>count2</th>\n",
       "      <th>docs1</th>\n",
       "      <th>docs2</th>\n",
       "    </tr>\n",
       "  </thead>\n",
       "  <tbody>\n",
       "    <tr>\n",
       "      <th>mrna</th>\n",
       "      <td>0.135430</td>\n",
       "      <td>0.012916</td>\n",
       "      <td>10.485347</td>\n",
       "      <td>5.043742e-26</td>\n",
       "      <td>0.135426</td>\n",
       "      <td>0.013111</td>\n",
       "      <td>10.329525</td>\n",
       "      <td>2.590826e-25</td>\n",
       "      <td>0.004308</td>\n",
       "      <td>0.001299</td>\n",
       "      <td>600</td>\n",
       "      <td>129</td>\n",
       "      <td>537</td>\n",
       "      <td>123</td>\n",
       "    </tr>\n",
       "    <tr>\n",
       "      <th>booster</th>\n",
       "      <td>0.132504</td>\n",
       "      <td>0.012915</td>\n",
       "      <td>10.259337</td>\n",
       "      <td>5.372102e-25</td>\n",
       "      <td>0.132500</td>\n",
       "      <td>0.013109</td>\n",
       "      <td>10.107339</td>\n",
       "      <td>2.562887e-24</td>\n",
       "      <td>0.003715</td>\n",
       "      <td>0.000849</td>\n",
       "      <td>450</td>\n",
       "      <td>56</td>\n",
       "      <td>418</td>\n",
       "      <td>51</td>\n",
       "    </tr>\n",
       "    <tr>\n",
       "      <th>enforce</th>\n",
       "      <td>0.098546</td>\n",
       "      <td>0.012909</td>\n",
       "      <td>7.633814</td>\n",
       "      <td>1.139546e-14</td>\n",
       "      <td>0.098543</td>\n",
       "      <td>0.013097</td>\n",
       "      <td>7.524183</td>\n",
       "      <td>2.652540e-14</td>\n",
       "      <td>0.000870</td>\n",
       "      <td>0.000024</td>\n",
       "      <td>112</td>\n",
       "      <td>3</td>\n",
       "      <td>109</td>\n",
       "      <td>3</td>\n",
       "    </tr>\n",
       "    <tr>\n",
       "      <th>patents</th>\n",
       "      <td>0.091884</td>\n",
       "      <td>0.012908</td>\n",
       "      <td>7.118285</td>\n",
       "      <td>5.463928e-13</td>\n",
       "      <td>0.091881</td>\n",
       "      <td>0.013095</td>\n",
       "      <td>7.016582</td>\n",
       "      <td>1.136807e-12</td>\n",
       "      <td>0.002202</td>\n",
       "      <td>0.000751</td>\n",
       "      <td>311</td>\n",
       "      <td>74</td>\n",
       "      <td>275</td>\n",
       "      <td>70</td>\n",
       "    </tr>\n",
       "    <tr>\n",
       "      <th>patent</th>\n",
       "      <td>0.078309</td>\n",
       "      <td>0.012906</td>\n",
       "      <td>6.067512</td>\n",
       "      <td>6.495335e-10</td>\n",
       "      <td>0.078307</td>\n",
       "      <td>0.013091</td>\n",
       "      <td>5.981637</td>\n",
       "      <td>1.104532e-09</td>\n",
       "      <td>0.002872</td>\n",
       "      <td>0.001227</td>\n",
       "      <td>375</td>\n",
       "      <td>117</td>\n",
       "      <td>341</td>\n",
       "      <td>107</td>\n",
       "    </tr>\n",
       "    <tr>\n",
       "      <th>...</th>\n",
       "      <td>...</td>\n",
       "      <td>...</td>\n",
       "      <td>...</td>\n",
       "      <td>...</td>\n",
       "      <td>...</td>\n",
       "      <td>...</td>\n",
       "      <td>...</td>\n",
       "      <td>...</td>\n",
       "      <td>...</td>\n",
       "      <td>...</td>\n",
       "      <td>...</td>\n",
       "      <td>...</td>\n",
       "      <td>...</td>\n",
       "      <td>...</td>\n",
       "    </tr>\n",
       "    <tr>\n",
       "      <th>tokyo</th>\n",
       "      <td>-0.147968</td>\n",
       "      <td>0.012919</td>\n",
       "      <td>-11.453511</td>\n",
       "      <td>1.000000e+00</td>\n",
       "      <td>-0.147963</td>\n",
       "      <td>0.013116</td>\n",
       "      <td>-11.280951</td>\n",
       "      <td>1.000000e+00</td>\n",
       "      <td>0.000000</td>\n",
       "      <td>0.001045</td>\n",
       "      <td>0</td>\n",
       "      <td>106</td>\n",
       "      <td>0</td>\n",
       "      <td>105</td>\n",
       "    </tr>\n",
       "    <tr>\n",
       "      <th>olympic</th>\n",
       "      <td>-0.150413</td>\n",
       "      <td>0.012920</td>\n",
       "      <td>-11.642271</td>\n",
       "      <td>1.000000e+00</td>\n",
       "      <td>-0.150409</td>\n",
       "      <td>0.013117</td>\n",
       "      <td>-11.466376</td>\n",
       "      <td>1.000000e+00</td>\n",
       "      <td>0.000009</td>\n",
       "      <td>0.001317</td>\n",
       "      <td>2</td>\n",
       "      <td>120</td>\n",
       "      <td>2</td>\n",
       "      <td>109</td>\n",
       "    </tr>\n",
       "    <tr>\n",
       "      <th>children</th>\n",
       "      <td>-0.159197</td>\n",
       "      <td>0.012922</td>\n",
       "      <td>-12.320076</td>\n",
       "      <td>1.000000e+00</td>\n",
       "      <td>-0.159192</td>\n",
       "      <td>0.013122</td>\n",
       "      <td>-12.132009</td>\n",
       "      <td>1.000000e+00</td>\n",
       "      <td>0.000330</td>\n",
       "      <td>0.002819</td>\n",
       "      <td>46</td>\n",
       "      <td>260</td>\n",
       "      <td>41</td>\n",
       "      <td>229</td>\n",
       "    </tr>\n",
       "    <tr>\n",
       "      <th>athletes</th>\n",
       "      <td>-0.169405</td>\n",
       "      <td>0.012924</td>\n",
       "      <td>-13.107333</td>\n",
       "      <td>1.000000e+00</td>\n",
       "      <td>-0.169400</td>\n",
       "      <td>0.013127</td>\n",
       "      <td>-12.904716</td>\n",
       "      <td>1.000000e+00</td>\n",
       "      <td>0.000009</td>\n",
       "      <td>0.001640</td>\n",
       "      <td>2</td>\n",
       "      <td>146</td>\n",
       "      <td>2</td>\n",
       "      <td>140</td>\n",
       "    </tr>\n",
       "    <tr>\n",
       "      <th>biontech</th>\n",
       "      <td>-0.170098</td>\n",
       "      <td>0.012925</td>\n",
       "      <td>-13.160742</td>\n",
       "      <td>1.000000e+00</td>\n",
       "      <td>-0.170093</td>\n",
       "      <td>0.013127</td>\n",
       "      <td>-12.957121</td>\n",
       "      <td>1.000000e+00</td>\n",
       "      <td>0.001938</td>\n",
       "      <td>0.005922</td>\n",
       "      <td>279</td>\n",
       "      <td>540</td>\n",
       "      <td>271</td>\n",
       "      <td>520</td>\n",
       "    </tr>\n",
       "  </tbody>\n",
       "</table>\n",
       "<p>2739 rows × 14 columns</p>\n",
       "</div>"
      ],
      "text/plain": [
       "          cohens_d  cohens_d_se  cohens_d_z    cohens_d_p  hedges_r  \\\n",
       "mrna      0.135430     0.012916   10.485347  5.043742e-26  0.135426   \n",
       "booster   0.132504     0.012915   10.259337  5.372102e-25  0.132500   \n",
       "enforce   0.098546     0.012909    7.633814  1.139546e-14  0.098543   \n",
       "patents   0.091884     0.012908    7.118285  5.463928e-13  0.091881   \n",
       "patent    0.078309     0.012906    6.067512  6.495335e-10  0.078307   \n",
       "...            ...          ...         ...           ...       ...   \n",
       "tokyo    -0.147968     0.012919  -11.453511  1.000000e+00 -0.147963   \n",
       "olympic  -0.150413     0.012920  -11.642271  1.000000e+00 -0.150409   \n",
       "children -0.159197     0.012922  -12.320076  1.000000e+00 -0.159192   \n",
       "athletes -0.169405     0.012924  -13.107333  1.000000e+00 -0.169400   \n",
       "biontech -0.170098     0.012925  -13.160742  1.000000e+00 -0.170093   \n",
       "\n",
       "          hedges_r_se  hedges_r_z    hedges_r_p        m1        m2  count1  \\\n",
       "mrna         0.013111   10.329525  2.590826e-25  0.004308  0.001299     600   \n",
       "booster      0.013109   10.107339  2.562887e-24  0.003715  0.000849     450   \n",
       "enforce      0.013097    7.524183  2.652540e-14  0.000870  0.000024     112   \n",
       "patents      0.013095    7.016582  1.136807e-12  0.002202  0.000751     311   \n",
       "patent       0.013091    5.981637  1.104532e-09  0.002872  0.001227     375   \n",
       "...               ...         ...           ...       ...       ...     ...   \n",
       "tokyo        0.013116  -11.280951  1.000000e+00  0.000000  0.001045       0   \n",
       "olympic      0.013117  -11.466376  1.000000e+00  0.000009  0.001317       2   \n",
       "children     0.013122  -12.132009  1.000000e+00  0.000330  0.002819      46   \n",
       "athletes     0.013127  -12.904716  1.000000e+00  0.000009  0.001640       2   \n",
       "biontech     0.013127  -12.957121  1.000000e+00  0.001938  0.005922     279   \n",
       "\n",
       "          count2  docs1  docs2  \n",
       "mrna         129    537    123  \n",
       "booster       56    418     51  \n",
       "enforce        3    109      3  \n",
       "patents       74    275     70  \n",
       "patent       117    341    107  \n",
       "...          ...    ...    ...  \n",
       "tokyo        106      0    105  \n",
       "olympic      120      2    109  \n",
       "children     260     41    229  \n",
       "athletes     146      2    140  \n",
       "biontech     540    271    520  \n",
       "\n",
       "[2739 rows x 14 columns]"
      ]
     },
     "execution_count": 137,
     "metadata": {},
     "output_type": "execute_result"
    }
   ],
   "source": [
    "cohens_df = st.CohensD(\n",
    "    frequent_corpus\n",
    ").set_categories(\n",
    "    'moderna'\n",
    ").get_score_df()\n",
    "print('Positive d is associated with Moderna, negative Pfizer')\n",
    "cohens_df.sort_values(by='cohens_d', ascending=False)"
   ]
  },
  {
   "cell_type": "markdown",
   "metadata": {},
   "source": [
    "### Scattertext Plot\n",
    "- We can plot Cohen's d scores on an interactive scatter plot using Scattertext\n",
    "- This allows us to visualize many more word-associations\n",
    "- Y-axis is Cohen's d\n",
    "- X-axis is the word frequency rank\n",
    "- Click on a term to view its context\n",
    "- We see that terms indicating side-effexts like rash, fever, chills and aches are more associated with Moderna"
   ]
  },
  {
   "cell_type": "code",
   "execution_count": 138,
   "metadata": {},
   "outputs": [
    {
     "data": {
      "text/html": [
       "\n",
       "        <iframe\n",
       "            width=\"1300\"\n",
       "            height=\"700\"\n",
       "            src=\"vaccine.html\"\n",
       "            frameborder=\"0\"\n",
       "            allowfullscreen\n",
       "        ></iframe>\n",
       "        "
      ],
      "text/plain": [
       "<IPython.lib.display.IFrame at 0x7fca15adc2d0>"
      ]
     },
     "execution_count": 138,
     "metadata": {},
     "output_type": "execute_result"
    }
   ],
   "source": [
    "vaccine_corpus = st.CorpusFromParsedDocuments(\n",
    "    df_with_gender_prob,\n",
    "    category_col='Query',\n",
    "    parsed_col='Parse'\n",
    ").build().get_stoplisted_unigram_corpus(\n",
    ").remove_infrequent_words(10)\n",
    "\n",
    "vaccine_corpus = vaccine_corpus.remove_terms(\n",
    "    [x for x in vaccine_corpus.get_terms() \n",
    "     if len(x) < 3 \n",
    "     or number_re.match(x) is not None\n",
    "     or x in ['moderna', 'pfizer']]\n",
    ")\n",
    "\n",
    "plot_df = st.CohensD(vaccine_corpus).set_categories(\n",
    "    'moderna'\n",
    ").get_score_df(correction_method='fdr_bh').assign(\n",
    "    Frequency=lambda df: df.count1 + df.count2,\n",
    "    X = lambda df: df.Frequency,\n",
    "    Xpos = lambda df: st.Scalers.dense_rank(df.X),\n",
    "    Y = lambda df: df.cohens_d,\n",
    "    Ypos = lambda df: st.Scalers.scale_center_zero(df.Y)\n",
    ")\n",
    "\n",
    "def get_heading(corpus):\n",
    "    df = corpus.get_df()\n",
    "    return (\n",
    "        df['DisplayName'] + '; @' + df['UserName'] \n",
    "        + '; <a href=\"' + df['url'] + '\">' \n",
    "        + df['date'].apply(str).str.split().apply(lambda x: x[0])\n",
    "    )\n",
    "\n",
    "html = st.dataframe_scattertext(\n",
    "    vaccine_corpus,\n",
    "    category='moderna',\n",
    "    category_name='Moderna',\n",
    "    not_category_name='Pfizer',\n",
    "    plot_df=plot_df,\n",
    "    use_full_doc=True,\n",
    "    metadata=get_heading(vaccine_corpus),\n",
    "    ignore_categories=False,\n",
    "    x_label='Frequency Rank',\n",
    "    y_label=\"Cohen's d\",\n",
    "    y_axis_labels=['More Pfizer', 'Neutral', 'More Moderna'],\n",
    "    color_score_column='Ypos',\n",
    "    tooltip_columns=['Frequency', 'cohens_d'],\n",
    "    header_names={'upper': 'Top Moderna', 'lower': 'Top Pfizer', 'right': 'Frequency'},\n",
    "    left_list_column='cohens_d',\n",
    "    right_order_column='Frequency', \n",
    "    horizontal_line_y_position=0.5,\n",
    "    d3_color_scale='d3.interpolateCool',\n",
    ")\n",
    "\n",
    "fn = 'vaccine.html'\n",
    "open(fn, 'wb').write(('<h2>Moderna vs. Pfizer Word Usage</h2>' + html).encode('utf-8'))\n",
    "IFrame(src=fn, width = 1300, height=700)"
   ]
  },
  {
   "cell_type": "markdown",
   "metadata": {},
   "source": [
    "### Gender-differences\n",
    "- Let's use the same technique to look at gender differences in language around the vaccines\n",
    "- Use the probable assigned gender at birth (F or M) as the dependent variable.\n",
    " - We ignore indeterminates for this study\n",
    "- We can see that F discuss side effects more and, other than the M-associated word \"wife\", kinship\n",
    "- M-tweets are more concerned with finance, patents and global affairs"
   ]
  },
  {
   "cell_type": "code",
   "execution_count": 139,
   "metadata": {},
   "outputs": [
    {
     "data": {
      "text/html": [
       "\n",
       "        <iframe\n",
       "            width=\"1300\"\n",
       "            height=\"700\"\n",
       "            src=\"gender.html\"\n",
       "            frameborder=\"0\"\n",
       "            allowfullscreen\n",
       "        ></iframe>\n",
       "        "
      ],
      "text/plain": [
       "<IPython.lib.display.IFrame at 0x7fc93045a7d0>"
      ]
     },
     "execution_count": 139,
     "metadata": {},
     "output_type": "execute_result"
    }
   ],
   "source": [
    "gender_corpus = st.CorpusFromParsedDocuments(\n",
    "    df_with_gender_prob,\n",
    "    category_col='ProbableGender',\n",
    "    parsed_col='Parse'\n",
    ").build().get_stoplisted_unigram_corpus(\n",
    ").remove_categories(['Ind']).remove_infrequent_words(10)\n",
    "\n",
    "gender_corpus = gender_corpus.remove_terms(\n",
    "    [x for x in gender_corpus.get_terms() \n",
    "     if len(x) < 3 \n",
    "     or number_re.match(x) is not None\n",
    "     or x in ['moderna', 'pfizer']]\n",
    ")\n",
    "\n",
    "gender_df = st.CohensD(gender_corpus).set_categories(\n",
    "    'F'\n",
    ").get_score_df(correction_method='fdr_bh').assign(\n",
    "    Frequency=lambda df: df.count1 + df.count2,\n",
    "    X = lambda df: df.Frequency,\n",
    "    Xpos = lambda df: st.Scalers.dense_rank(df.X),\n",
    "    Y = lambda df: df.cohens_d,\n",
    "    Ypos = lambda df: st.Scalers.scale_center_zero(df.Y)\n",
    ")\n",
    "\n",
    "html = st.dataframe_scattertext(\n",
    "    gender_corpus,\n",
    "    category='F',\n",
    "    not_category_name='M',\n",
    "    plot_df=gender_df,\n",
    "    metadata=get_heading(gender_corpus),\n",
    "    ignore_categories=False,\n",
    "    x_label='Frequency Rank',\n",
    "    y_label=\"Cohen's d\",\n",
    "    y_axis_labels=['More M', 'Neutral', 'More F'],\n",
    "    color_score_column='Ypos',\n",
    "    tooltip_columns=['Frequency', 'cohens_d'],\n",
    "    header_names={'upper': 'Top F', 'lower': 'Top M', 'right': 'Frequency'},\n",
    "    left_list_column='cohens_d',\n",
    "    right_order_column='Frequency', \n",
    "    horizontal_line_y_position=0.5,\n",
    "    d3_color_scale='d3.interpolateCool',\n",
    ")\n",
    "\n",
    "fn = 'gender.html'\n",
    "open(fn, 'wb').write(('<h2>F vs. M Word Usage</h2>' + html).encode('utf-8'))\n",
    "IFrame(src=fn, width = 1300, height=700)"
   ]
  },
  {
   "cell_type": "markdown",
   "metadata": {},
   "source": [
    "## Combining the two dependent variables\n",
    "- We can use the FourSquare feature of Scattertext to construct a Semiotic Square-type plot which combines gender and vacine type\n",
    "- Cohen's d for gender is the Y-axis\n",
    "- Cohen's d for vaccine type is the X-axis\n",
    "- Terms plotted near extreme points of the outline of the chart form clusters characteristic of each category/combination\n"
   ]
  },
  {
   "cell_type": "code",
   "execution_count": 140,
   "metadata": {},
   "outputs": [
    {
     "data": {
      "text/html": [
       "\n",
       "        <iframe\n",
       "            width=\"1300\"\n",
       "            height=\"700\"\n",
       "            src=\"four_square.html\"\n",
       "            frameborder=\"0\"\n",
       "            allowfullscreen\n",
       "        ></iframe>\n",
       "        "
      ],
      "text/plain": [
       "<IPython.lib.display.IFrame at 0x7fca136fb550>"
      ]
     },
     "execution_count": 140,
     "metadata": {},
     "output_type": "execute_result"
    }
   ],
   "source": [
    "four_square_df = df_with_gender_prob[\n",
    "    lambda df: df.ProbableGender != 'Ind'\n",
    "].assign(Category = lambda df: df.ProbableGender + ', ' + df.Query)\n",
    "\n",
    "four_square_corpus = st.CorpusFromParsedDocuments(\n",
    "    four_square_df,\n",
    "    category_col='Category',\n",
    "    parsed_col='Parse',\n",
    ").build(\n",
    ").get_stoplisted_unigram_corpus(\n",
    ").remove_infrequent_words(10).remove_terms(['moderna', 'pfizer'])\n",
    "\n",
    "four_square_corpus = four_square_corpus.remove_terms(\n",
    "    [x for x in four_square_corpus.get_terms() \n",
    "     if len(x) < 3 \n",
    "     or number_re.match(x) is not None]\n",
    ")\n",
    "\n",
    "four_square = st.FourSquare(\n",
    "    four_square_corpus,\n",
    "    category_a_list=['F, moderna'],\n",
    "    not_category_a_list=['M, pfizer'],\n",
    "    category_b_list=['F, pfizer'],\n",
    "    not_category_b_list=['M, moderna'],\n",
    "    scorer=st.RankDifference(),\n",
    "    labels={'a': 'Moderna (F)',\n",
    "            'b': 'Pfizer (F)',\n",
    "            'not_a_and_not_b': 'M',\n",
    "            'a_and_b': 'F',\n",
    "            'a_and_not_b': 'Moderna',\n",
    "            'b_and_not_a': 'Pfizer',\n",
    "            'not_a': 'Pfizer (M)',\n",
    "            'not_b': 'Moderna (M)',}\n",
    ")\n",
    "\n",
    "html = st.produce_four_square_explorer(\n",
    "    four_square=four_square,\n",
    "    x_label='Moderna-Pfizer',\n",
    "    y_label='F-M',\n",
    "    num_terms_semiotic_square=5,\n",
    "    minimum_term_frequency=0,\n",
    "    pmi_threshold_coefficient=0,\n",
    "    use_full_doc=True,\n",
    "    metadata=get_heading(four_square_corpus),\n",
    ")\n",
    "\n",
    "fn = 'four_square.html'\n",
    "open(fn, 'wb').write(('<h2>Vacine/Gender Word Usage</h2>' + html).encode('utf-8'))\n",
    "IFrame(src=fn, width = 1300, height=700)"
   ]
  },
  {
   "cell_type": "markdown",
   "metadata": {},
   "source": [
    "## Side effect analysis\n",
    "- It looks like side effects are more closely associated with Moderna, and are being reported by more women\n",
    "- Let's only look at words which are involved in side effects\n",
    "- To do this, we will use a technique called word2vec, where we use a technique called Skip Gram with Negative Sampling to embed words in our corpus into a dense, 100-dimensional space.\n",
    "- In this space, words used in similar contets (typically indicating a similar meaning) will have a higher cosine similarity than words which appear in different contexts\n",
    " - For more details on this procedure, please see [here](https://cs224d.stanford.edu/lecture_notes/notes1.pdf).\n",
    "- Scattertext uses the Gensim library to perform SGNS, and creates a Gensim model from the corpus\n"
   ]
  },
  {
   "cell_type": "code",
   "execution_count": 141,
   "metadata": {},
   "outputs": [],
   "source": [
    "model = st.Word2VecFromParsedCorpus(corpus).train()"
   ]
  },
  {
   "cell_type": "markdown",
   "metadata": {},
   "source": [
    "### Embeddings exploration\n",
    "- Let's explore how these word embeddings work to get a better sense of them\n",
    "- Let's first take the top 50 most frequent words in the corpus, and use the model to embed them in a matrix, mat\n",
    "- We'll compute the pairwise cosine distance, and look at a dendrogram\n",
    "- Words connected more closely in the dendrogram are more similar in meaning"
   ]
  },
  {
   "cell_type": "code",
   "execution_count": 142,
   "metadata": {},
   "outputs": [
    {
     "name": "stdout",
     "output_type": "stream",
     "text": [
      "Top 25 terms\n",
      "['vaccine', 'shot', 'second', 'dose', 'covid', 'just', 'vaccines', 'like', 'day', 'people', 'today', 'arm', 'doses', 'effects', 'vaccinated', 'getting', 'good', 'days', 'sore', 'know', 'week', 'biontech', 'weeks', 'hours', 'time', 'mrna', 'shots', 'feel', 'variants', 'think', 'effective', 'said', 'yesterday', 'fully', 'better', 'year', 'going', 'make', 'really', 'johnson', 'fine', 'new', 'news', 'felt', 'booster', 'astrazeneca', 'jab', 'patent', 'world', 'bad']\n",
      "Embedding of \"dose\"\n",
      "[ 0.04241484  0.09427989 -0.29581928  0.02507444 -0.3712274  -0.7303839\n",
      " -0.45707685 -0.02778318 -0.06386217  0.08339004 -0.13849856 -0.27876985\n",
      " -0.32231438  0.0132844   0.38056388 -0.12929074  0.09545837 -0.36514243\n",
      "  0.23527552 -0.4404841  -0.25647634 -0.50229853 -0.03552902  0.36110336\n",
      " -0.16090693  0.09531637 -0.1271309  -0.14526351 -0.23283508  0.55778337\n",
      "  0.11794458 -0.13773525 -0.07932708  0.02704221  0.06487798 -0.00935711\n",
      "  0.46867558  0.33110508 -0.17212228  0.30234882 -0.14693955  0.13284053\n",
      " -0.15719697 -0.1742238  -0.3281193   0.34623918 -0.02592832 -0.29839435\n",
      " -0.1623892  -0.2744891  -0.0904441  -0.57453483  0.225706   -0.01623231\n",
      "  0.42205176  0.12367208  0.42155886 -0.10356477  0.16548386  0.26934305\n",
      " -0.10320787  0.13988814  0.15407224  0.11133114  0.16822807 -0.21315666\n",
      "  0.3996765  -0.36528552  0.08373323 -0.4782376   0.15135102  0.26543462\n",
      " -0.04808364  0.41493696 -0.27237028 -0.03877293  0.15810958 -0.14822492\n",
      " -0.21154228 -0.5257767   0.44905725  0.25280076  0.20946403 -0.5354548\n",
      " -0.18099016  0.3127478  -0.33049786  0.39920843 -0.0493034  -0.397907\n",
      "  0.26231134 -0.13257483 -0.281298   -0.14999987 -0.04788208  0.3996221\n",
      "  0.16299336 -0.20311607  0.05013923 -0.00147014]\n",
      "Cosine distance of \"dose\" to \"shot\" 0.32845813035964966\n",
      "Cosine distance of \"dose\" to \"yesterday\" 0.6021591126918793\n",
      "Dimensions of term/embedding matrix: (50, 100)\n",
      "Dimension of pairwise cosine distance of matrix: (50, 50)\n"
     ]
    },
    {
     "data": {
      "image/png": "[encoded data removed]",
      "text/plain": [
       "<Figure size 576x1008 with 1 Axes>"
      ]
     },
     "metadata": {
      "needs_background": "light"
     },
     "output_type": "display_data"
    }
   ],
   "source": [
    "from sklearn.metrics.pairwise import cosine_distances\n",
    "from scipy.cluster.hierarchy import dendrogram, linkage\n",
    "from scipy.spatial.distance import squareform\n",
    "import matplotlib.pyplot as plt\n",
    "\n",
    "top_terms = list(frequent_corpus.get_term_freq_df().sum(axis=1).sort_values(ascending=False).iloc[:50].index)\n",
    "print('Top 25 terms')\n",
    "print(top_terms)\n",
    "mat = np.array([model.wv[t] for t in top_terms])\n",
    "print('Embedding of \"dose\"')\n",
    "print(model.wv['dose'])\n",
    "\n",
    "def cosine_sim(a, b):\n",
    "    return 1-np.dot(model.wv[a],model.wv[b])/(np.linalg.norm(model.wv[a])*np.linalg.norm(model.wv[b]))\n",
    "\n",
    "print('Cosine distance of \"dose\" to \"shot\"', cosine_sim('dose', 'shot'))\n",
    "print('Cosine distance of \"dose\" to \"yesterday\"', cosine_sim('dose', 'yesterday'))\n",
    "\n",
    "print('Dimensions of term/embedding matrix:', mat.shape)\n",
    "\n",
    "\n",
    "sim_mat = cosine_distances(mat)\n",
    "print('Dimension of pairwise cosine distance of matrix:', sim_mat.shape)\n",
    "plt.figure(figsize=(8,14))\n",
    "dists = squareform(sim_mat)\n",
    "linkage_matrix = linkage(dists, \"single\")\n",
    "dendrogram(linkage_matrix, labels=top_terms, orientation='right', leaf_font_size=12.,)\n",
    "plt.show()"
   ]
  },
  {
   "cell_type": "markdown",
   "metadata": {},
   "source": [
    "### Side effect terms\n",
    "- Let's take the words \"sore\" and \"dizzy\", and score words by how similar they are to the centroid of the two words\n",
    "- This is called Latent Semantic Scaling\n",
    "- The top ten most similar terms all releate to illnesses, and are thus plausible side effects"
   ]
  },
  {
   "cell_type": "code",
   "execution_count": 143,
   "metadata": {},
   "outputs": [
    {
     "data": {
      "text/html": [
       "<div>\n",
       "<style scoped>\n",
       "    .dataframe tbody tr th:only-of-type {\n",
       "        vertical-align: middle;\n",
       "    }\n",
       "\n",
       "    .dataframe tbody tr th {\n",
       "        vertical-align: top;\n",
       "    }\n",
       "\n",
       "    .dataframe thead th {\n",
       "        text-align: right;\n",
       "    }\n",
       "</style>\n",
       "<table border=\"1\" class=\"dataframe\">\n",
       "  <thead>\n",
       "    <tr style=\"text-align: right;\">\n",
       "      <th></th>\n",
       "      <th>SideEffect</th>\n",
       "      <th>Frequency</th>\n",
       "    </tr>\n",
       "  </thead>\n",
       "  <tbody>\n",
       "    <tr>\n",
       "      <th>sore</th>\n",
       "      <td>1.373238</td>\n",
       "      <td>936.0</td>\n",
       "    </tr>\n",
       "    <tr>\n",
       "      <th>dizzy</th>\n",
       "      <td>1.373238</td>\n",
       "      <td>18.0</td>\n",
       "    </tr>\n",
       "    <tr>\n",
       "      <th>achey</th>\n",
       "      <td>1.271124</td>\n",
       "      <td>28.0</td>\n",
       "    </tr>\n",
       "    <tr>\n",
       "      <th>tired</th>\n",
       "      <td>1.230482</td>\n",
       "      <td>322.0</td>\n",
       "    </tr>\n",
       "    <tr>\n",
       "      <th>stiff</th>\n",
       "      <td>1.226114</td>\n",
       "      <td>15.0</td>\n",
       "    </tr>\n",
       "    <tr>\n",
       "      <th>queasy</th>\n",
       "      <td>1.221498</td>\n",
       "      <td>5.0</td>\n",
       "    </tr>\n",
       "    <tr>\n",
       "      <th>achy</th>\n",
       "      <td>1.212435</td>\n",
       "      <td>86.0</td>\n",
       "    </tr>\n",
       "    <tr>\n",
       "      <th>lethargic</th>\n",
       "      <td>1.211611</td>\n",
       "      <td>11.0</td>\n",
       "    </tr>\n",
       "    <tr>\n",
       "      <th>nauseous</th>\n",
       "      <td>1.164299</td>\n",
       "      <td>32.0</td>\n",
       "    </tr>\n",
       "    <tr>\n",
       "      <th>bruise</th>\n",
       "      <td>1.150194</td>\n",
       "      <td>10.0</td>\n",
       "    </tr>\n",
       "  </tbody>\n",
       "</table>\n",
       "</div>"
      ],
      "text/plain": [
       "           SideEffect  Frequency\n",
       "sore         1.373238      936.0\n",
       "dizzy        1.373238       18.0\n",
       "achey        1.271124       28.0\n",
       "tired        1.230482      322.0\n",
       "stiff        1.226114       15.0\n",
       "queasy       1.221498        5.0\n",
       "achy         1.212435       86.0\n",
       "lethargic    1.211611       11.0\n",
       "nauseous     1.164299       32.0\n",
       "bruise       1.150194       10.0"
      ]
     },
     "execution_count": 143,
     "metadata": {},
     "output_type": "execute_result"
    }
   ],
   "source": [
    "side_effect_df = pd.DataFrame({\n",
    "    'SideEffect': st.latent_semantic_scale_from_word2vec(\n",
    "        model, \n",
    "        pos_seed_words=['sore', 'dizzy']\n",
    "    ),\n",
    "    'Frequency': corpus.get_term_freq_df().sum(axis=1),\n",
    "}).dropna().sort_values(by='SideEffect', ascending=False)\n",
    "side_effect_df.head(10)"
   ]
  },
  {
   "cell_type": "markdown",
   "metadata": {},
   "source": [
    "## Plotting Side Effects\n",
    "- Let's take the 500 words with the highest similarity score\n",
    "- Plot their Cohen's d againt Moderna vs. Pfizer just as above\n",
    "- Color them by how closely they are to the seed side effect words\n",
    "- The lions share of the side effects occur with Moderna\n",
    "- However, side effects around lymph nodes (especially in the armpits) and arthrits occured with Pfizer more than Moderna"
   ]
  },
  {
   "cell_type": "code",
   "execution_count": 144,
   "metadata": {},
   "outputs": [
    {
     "data": {
      "text/html": [
       "\n",
       "        <iframe\n",
       "            width=\"1300\"\n",
       "            height=\"700\"\n",
       "            src=\"side_effects.html\"\n",
       "            frameborder=\"0\"\n",
       "            allowfullscreen\n",
       "        ></iframe>\n",
       "        "
      ],
      "text/plain": [
       "<IPython.lib.display.IFrame at 0x7fc9a50d3550>"
      ]
     },
     "execution_count": 144,
     "metadata": {},
     "output_type": "execute_result"
    }
   ],
   "source": [
    "side_effect_df = side_effect_df.iloc[:500]\n",
    "side_effect_corpus = corpus.whitelist_terms(side_effect_df.index)\n",
    "association_scores = st.CohensD(side_effect_corpus).set_categories('moderna').get_scores()\n",
    "\n",
    "plot_df = side_effect_df.assign(\n",
    "    SideEffectScaled = lambda df: st.Scalers.scale(df.SideEffect),\n",
    "    Association = association_scores,\n",
    "    X = lambda df: df.Frequency,\n",
    "    Xpos = lambda df: st.Scalers.dense_rank(df.X),\n",
    "    Y = lambda df: df.Association,\n",
    "    Ypos = lambda df: st.Scalers.scale_center_zero_abs(df.Y)\n",
    ").reindex(side_effect_corpus.get_terms())\n",
    "\n",
    "\n",
    "html = st.dataframe_scattertext(\n",
    "    side_effect_corpus,\n",
    "    category_name='Moderna',\n",
    "    not_category_name='Pfizer',\n",
    "    plot_df=plot_df,\n",
    "    metadata=get_heading(side_effect_corpus),\n",
    "    ignore_categories=False,\n",
    "    use_full_doc=True,\n",
    "    x_label='Frequency',\n",
    "    y_label=\"Cohen's d\",\n",
    "    y_axis_labels=['More Pfizer', 'Neutral', 'More Moderna'],\n",
    "    color_score_column='SideEffectScaled',\n",
    "    tooltip_columns=['Frequency', 'Association'],\n",
    "    header_names={'upper': 'Top Moderna', 'lower': 'Top Pfzier', 'right': 'SideEfect'},\n",
    "    left_list_column='Association',\n",
    "    right_order_column='SideEffect',    \n",
    "    d3_color_scale='d3.interpolateCool'\n",
    "\n",
    ")\n",
    "fn = 'side_effects.html'\n",
    "open(fn, 'wb').write(('<h2>Side Effect Vaccine Association</h2>' + html).encode('utf-8'))\n",
    "IFrame(src=fn, width = 1300, height=700)\n",
    "\n"
   ]
  }
 ],
 "metadata": {
  "kernelspec": {
   "display_name": "py38",
   "language": "python",
   "name": "py38"
  }
 },
 "nbformat": 4,
 "nbformat_minor": 2
}
